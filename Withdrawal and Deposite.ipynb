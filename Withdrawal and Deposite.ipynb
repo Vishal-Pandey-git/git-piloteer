{
 "cells": [
  {
   "cell_type": "code",
   "execution_count": null,
   "metadata": {},
   "outputs": [],
   "source": [
    "class BankAccount:\r\n",
    "    def __init__(self):\r\n",
    "        self.balance = 0\r\n",
    "        print(\"Welcome to Deposite and Withdrawal\")\r\n",
    "    def deposit(self):\r\n",
    "        amount=float(input(\"Enter amount to deposit:\\n\"))\r\n",
    "        self.balance += amount\r\n",
    "        print(f\"\\nAmount Deposited: {amount}\")\r\n",
    "    def withdraw(self):\r\n",
    "        amount=float(input(\"Enter amount to withdraw:\\n\"))\r\n",
    "        if self.balance>=amount:\r\n",
    "            self.balance-=amount\r\n",
    "            print(f\"\\nYou Withdrawn amount: {amount}\")\r\n",
    "        else:\r\n",
    "            print(\"\\n{amount} is Insufficient to withdraw from current balance {self.balance}\")\r\n",
    "    def display(self):\r\n",
    "        print(f\"\\nAvailable Balance: {self.balance}\")\r\n",
    "s= BankAccount()\r\n",
    "while(True):\r\n",
    "    print(\"Press D/d to Deposit, W/w to Withdraw, B/b to see Balance and Q/q to Quit\")\r\n",
    "    choice = input()\r\n",
    "    if(choice=='D' or choice=='d'):\r\n",
    "        s.deposit()\r\n",
    "        s.display()\r\n",
    "    if(choice=='W' or choice=='w'):\r\n",
    "        s.withdraw()\r\n",
    "        s.display()\r\n",
    "    if(choice=='B' or choice=='b'):\r\n",
    "        s.display()\r\n",
    "    if(choice=='Q' or choice=='q'):\r\n",
    "        quit()"
   ]
  },
  {
   "cell_type": "code",
   "execution_count": null,
   "metadata": {},
   "outputs": [],
   "source": []
  }
 ],
 "metadata": {
  "kernelspec": {
   "name": "python392jvsc74a57bd0fe06f96167c4fc64a78c238d993189072a4e72b444216e36203d6f96126eaf0a",
   "display_name": "Python 3.9.2 64-bit"
  },
  "language_info": {
   "codemirror_mode": {
    "name": "ipython",
    "version": 3
   },
   "file_extension": ".py",
   "mimetype": "text/x-python",
   "name": "python",
   "nbconvert_exporter": "python",
   "pygments_lexer": "ipython3",
   "version": "3.9.2"
  },
  "metadata": {
   "interpreter": {
    "hash": "fe06f96167c4fc64a78c238d993189072a4e72b444216e36203d6f96126eaf0a"
   }
  }
 },
 "nbformat": 4,
 "nbformat_minor": 2
}